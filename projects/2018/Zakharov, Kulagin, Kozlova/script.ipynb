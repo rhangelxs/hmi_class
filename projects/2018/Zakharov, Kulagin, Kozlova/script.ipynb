{
 "cells": [
  {
   "cell_type": "markdown",
   "metadata": {},
   "source": [
    "## Подготовка данных"
   ]
  },
  {
   "cell_type": "code",
   "execution_count": 128,
   "metadata": {},
   "outputs": [
    {
     "data": {
      "text/html": [
       "<div>\n",
       "<style scoped>\n",
       "    .dataframe tbody tr th:only-of-type {\n",
       "        vertical-align: middle;\n",
       "    }\n",
       "\n",
       "    .dataframe tbody tr th {\n",
       "        vertical-align: top;\n",
       "    }\n",
       "\n",
       "    .dataframe thead th {\n",
       "        text-align: right;\n",
       "    }\n",
       "</style>\n",
       "<table border=\"1\" class=\"dataframe\">\n",
       "  <thead>\n",
       "    <tr style=\"text-align: right;\">\n",
       "      <th></th>\n",
       "      <th>email_inputed</th>\n",
       "      <th>email_not_inputed</th>\n",
       "    </tr>\n",
       "    <tr>\n",
       "      <th>variant</th>\n",
       "      <th></th>\n",
       "      <th></th>\n",
       "    </tr>\n",
       "  </thead>\n",
       "  <tbody>\n",
       "    <tr>\n",
       "      <th>show</th>\n",
       "      <td>75</td>\n",
       "      <td>38</td>\n",
       "    </tr>\n",
       "    <tr>\n",
       "      <th>hide</th>\n",
       "      <td>43</td>\n",
       "      <td>66</td>\n",
       "    </tr>\n",
       "  </tbody>\n",
       "</table>\n",
       "</div>"
      ],
      "text/plain": [
       "         email_inputed  email_not_inputed\n",
       "variant                                  \n",
       "show                75                 38\n",
       "hide                43                 66"
      ]
     },
     "execution_count": 128,
     "metadata": {},
     "output_type": "execute_result"
    }
   ],
   "source": [
    "import pandas as pd\n",
    "# читаем данные из csv\n",
    "df = pd.read_csv('dataset.csv')\n",
    "df = df.set_index('variant')\n",
    "df"
   ]
  },
  {
   "cell_type": "code",
   "execution_count": 129,
   "metadata": {},
   "outputs": [],
   "source": [
    "# составляем таблицу сопряженности: добавим сумму по рядам и столбцам для вычисления критерия хи-квадрат\n",
    "\n",
    "df['sum'] = df.email_inputed + df.email_not_inputed\n",
    "res = df.sum(axis=0).rename('sum')\n",
    "df = df.append(res)"
   ]
  },
  {
   "cell_type": "code",
   "execution_count": 130,
   "metadata": {},
   "outputs": [
    {
     "data": {
      "text/html": [
       "<div>\n",
       "<style scoped>\n",
       "    .dataframe tbody tr th:only-of-type {\n",
       "        vertical-align: middle;\n",
       "    }\n",
       "\n",
       "    .dataframe tbody tr th {\n",
       "        vertical-align: top;\n",
       "    }\n",
       "\n",
       "    .dataframe thead th {\n",
       "        text-align: right;\n",
       "    }\n",
       "</style>\n",
       "<table border=\"1\" class=\"dataframe\">\n",
       "  <thead>\n",
       "    <tr style=\"text-align: right;\">\n",
       "      <th></th>\n",
       "      <th>email_inputed</th>\n",
       "      <th>email_not_inputed</th>\n",
       "      <th>sum</th>\n",
       "    </tr>\n",
       "    <tr>\n",
       "      <th>variant</th>\n",
       "      <th></th>\n",
       "      <th></th>\n",
       "      <th></th>\n",
       "    </tr>\n",
       "  </thead>\n",
       "  <tbody>\n",
       "    <tr>\n",
       "      <th>show</th>\n",
       "      <td>75</td>\n",
       "      <td>38</td>\n",
       "      <td>113</td>\n",
       "    </tr>\n",
       "    <tr>\n",
       "      <th>hide</th>\n",
       "      <td>43</td>\n",
       "      <td>66</td>\n",
       "      <td>109</td>\n",
       "    </tr>\n",
       "    <tr>\n",
       "      <th>sum</th>\n",
       "      <td>118</td>\n",
       "      <td>104</td>\n",
       "      <td>222</td>\n",
       "    </tr>\n",
       "  </tbody>\n",
       "</table>\n",
       "</div>"
      ],
      "text/plain": [
       "         email_inputed  email_not_inputed  sum\n",
       "variant                                       \n",
       "show                75                 38  113\n",
       "hide                43                 66  109\n",
       "sum                118                104  222"
      ]
     },
     "execution_count": 130,
     "metadata": {},
     "output_type": "execute_result"
    }
   ],
   "source": [
    "df"
   ]
  },
  {
   "cell_type": "markdown",
   "metadata": {},
   "source": [
    "Напомним, \n",
    "\n",
    "Н<sub>0</sub>: М(х) = М(y), где x и y - количество пользователей, совершивших ввод почты в каждой из групп.\n",
    "\n",
    "Н<sub>А</sub>: М(х) ≠ М(y)"
   ]
  },
  {
   "cell_type": "markdown",
   "metadata": {},
   "source": [
    "## Критерий хи-квадрат"
   ]
  },
  {
   "cell_type": "code",
   "execution_count": 131,
   "metadata": {},
   "outputs": [
    {
     "data": {
      "text/html": [
       "<div>\n",
       "<style scoped>\n",
       "    .dataframe tbody tr th:only-of-type {\n",
       "        vertical-align: middle;\n",
       "    }\n",
       "\n",
       "    .dataframe tbody tr th {\n",
       "        vertical-align: top;\n",
       "    }\n",
       "\n",
       "    .dataframe thead th {\n",
       "        text-align: right;\n",
       "    }\n",
       "</style>\n",
       "<table border=\"1\" class=\"dataframe\">\n",
       "  <thead>\n",
       "    <tr style=\"text-align: right;\">\n",
       "      <th></th>\n",
       "      <th>email_inputed</th>\n",
       "      <th>email_not_inputed</th>\n",
       "    </tr>\n",
       "    <tr>\n",
       "      <th>variant</th>\n",
       "      <th></th>\n",
       "      <th></th>\n",
       "    </tr>\n",
       "  </thead>\n",
       "  <tbody>\n",
       "    <tr>\n",
       "      <th>show</th>\n",
       "      <td>60.0631</td>\n",
       "      <td>52.9369</td>\n",
       "    </tr>\n",
       "    <tr>\n",
       "      <th>hide</th>\n",
       "      <td>57.9369</td>\n",
       "      <td>51.0631</td>\n",
       "    </tr>\n",
       "  </tbody>\n",
       "</table>\n",
       "</div>"
      ],
      "text/plain": [
       "        email_inputed email_not_inputed\n",
       "variant                                \n",
       "show          60.0631           52.9369\n",
       "hide          57.9369           51.0631"
      ]
     },
     "execution_count": 131,
     "metadata": {},
     "output_type": "execute_result"
    }
   ],
   "source": [
    "# построим таблицу ожидаемых значений\n",
    "expectations = pd.DataFrame(None, index=df.index[0:2], columns=df.columns[0:2])\n",
    "\n",
    "for row in range(0, 2):\n",
    "    for column in range(0, 2):\n",
    "        row_name = df.index[row]\n",
    "        column_name = df.columns[column]\n",
    "        expectations.loc[row_name, column_name] = (df.loc[row_name, 'sum'] * df.loc['sum', column_name]) / df.loc['sum', 'sum']\n",
    "\n",
    "expectations"
   ]
  },
  {
   "cell_type": "code",
   "execution_count": 132,
   "metadata": {},
   "outputs": [],
   "source": [
    "def chi_squared(real, expect):\n",
    "    res = 0\n",
    "    \n",
    "    for i in range(0, 4):\n",
    "        res += ((real[i] - expect[i]) ** 2) / expect[i]\n",
    "        \n",
    "    return res"
   ]
  },
  {
   "cell_type": "code",
   "execution_count": 133,
   "metadata": {},
   "outputs": [
    {
     "name": "stdout",
     "output_type": "stream",
     "text": [
      "Значение критерия хи-квадрат равно  16.149598518662636\n"
     ]
    }
   ],
   "source": [
    "real = df.loc['show'].values[0:2].tolist() + df.loc['hide'].values[0:2].tolist()\n",
    "expect = expectations.values.flatten().tolist()\n",
    "\n",
    "print('Значение критерия хи-квадрат равно ', chi_squared(real, expect))"
   ]
  },
  {
   "cell_type": "markdown",
   "metadata": {},
   "source": [
    "### Критерий хи-квадрат: вывод\n",
    "Определяем число степеней свободы по формуле: f = (r – 1) × (c – 1). У нас число степеней свободы равно 1.\n",
    "Сравниваем полученное значение критерия χ<sup>2</sup> с критическими: 16.15 > 3.841 (при α = 0.05), 16.15 > 6.635 (при α = 0.01), следовательно зависимость ввода корпоративной почты от наличия баннера в шапке сайта статистически значима, нулевая гипотеза не принимается."
   ]
  },
  {
   "cell_type": "markdown",
   "metadata": {},
   "source": [
    "## t-статистика"
   ]
  },
  {
   "cell_type": "markdown",
   "metadata": {},
   "source": [
    "Дисперсии неизвестны (но предполагается, что одинаковы), поэтому для проверки равенства мат. ожиданий используем следующую формулу для критерия Стьюдента:"
   ]
  },
  {
   "cell_type": "markdown",
   "metadata": {},
   "source": [
    "$t=\\frac{\\bar{X}-\\bar{Y}}{\\sqrt{(n_{X}-1)\\bar{\\sigma}_{X}^{2}+(n_{Y}-1)\\bar{\\sigma}_{Y}^{2}}}\\cdot\\sqrt{\\frac{n_{X}\\cdot n_{Y}(n_{X}+n_{Y}-2))}{ n_{X}+n_{Y}}}\\sim t(n_{X}+ n_{Y}-2)%0$ , где:"
   ]
  },
  {
   "cell_type": "markdown",
   "metadata": {},
   "source": [
    "$\\bar{X} = \\frac{\\sum_{i=1}^{n} X_{i}}{n_{X}}%0$"
   ]
  },
  {
   "cell_type": "markdown",
   "metadata": {},
   "source": [
    "$\\bar{\\sigma}_{X}^{2} = \\frac{\\sum_{i=1}^{n} (X{i} - \\bar{X})^{2}}{n_X -1}%0$"
   ]
  },
  {
   "cell_type": "code",
   "execution_count": 134,
   "metadata": {},
   "outputs": [],
   "source": [
    "show_mean = df.loc['show', 'email_inputed'] / df.loc['show', 'sum']\n",
    "hide_mean = df.loc['hide', 'email_inputed'] / df.loc['hide', 'sum']\n",
    "\n",
    "temp1 = df.loc['show', 'email_inputed'] * ((1 - show_mean) ** 2) + df.loc['show', 'email_not_inputed'] * ((0 - show_mean) ** 2)\n",
    "temp2 = df.loc['hide', 'email_inputed'] * ((1 - hide_mean) ** 2) + df.loc['hide', 'email_not_inputed'] * ((0 - hide_mean) ** 2)"
   ]
  },
  {
   "cell_type": "code",
   "execution_count": 135,
   "metadata": {},
   "outputs": [
    {
     "name": "stdout",
     "output_type": "stream",
     "text": [
      "Значение t-статистики равно  4.154476878958986\n"
     ]
    }
   ],
   "source": [
    "import math\n",
    "\n",
    "t = ((show_mean - hide_mean) / math.sqrt(temp1 + temp2)) * math.sqrt((df.loc['show', 'sum'] * df.loc['hide', 'sum'] * (df.loc['show', 'sum'] + df.loc['hide', 'sum'] - 2)) / (df.loc['show', 'sum'] + df.loc['hide', 'sum']))\n",
    "\n",
    "print('Значение t-статистики равно ', t)"
   ]
  },
  {
   "cell_type": "markdown",
   "metadata": {},
   "source": [
    "### t-статистика: вывод\n",
    "\n",
    "Количество степеней свободы = 220.\n",
    "По таблице критических значений критерия Стьюдента находим подходящее значение на уровне значимости 0.001:\n",
    "t<sub>0.999</sub>=3.3398\n",
    "Вычисленное значение критерия больше критического, поэтому гипотезу об отсутствии влияния изменения интерфейса на достижение цели не принимаем. \n",
    "\n"
   ]
  },
  {
   "cell_type": "code",
   "execution_count": null,
   "metadata": {},
   "outputs": [],
   "source": []
  }
 ],
 "metadata": {
  "kernelspec": {
   "display_name": "Python 3",
   "language": "python",
   "name": "python3"
  },
  "language_info": {
   "codemirror_mode": {
    "name": "ipython",
    "version": 3
   },
   "file_extension": ".py",
   "mimetype": "text/x-python",
   "name": "python",
   "nbconvert_exporter": "python",
   "pygments_lexer": "ipython3",
   "version": "3.5.2"
  }
 },
 "nbformat": 4,
 "nbformat_minor": 2
}
